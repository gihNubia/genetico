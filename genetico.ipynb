{
 "cells": [
  {
   "cell_type": "code",
   "execution_count": 6,
   "metadata": {},
   "outputs": [],
   "source": [
    "import random\n",
    "import math"
   ]
  },
  {
   "cell_type": "code",
   "execution_count": 33,
   "metadata": {},
   "outputs": [
    {
     "name": "stdout",
     "output_type": "stream",
     "text": [
      "[[0.6494807846648054, 2.598352711629529], [5.756816237910468, 1.8420451419530959], [2.0886238689761383, 1.1076881587640985], [7.412716771439232, 6.693294679460179], [2.3978352994716023, 4.650222707500636], [8.663129291297402, 1.347846154796274], [9.477217399747438, 7.98235150926688], [7.715560065781014, 1.7399339344346854], [2.9824287528576763, 9.817767064465214], [5.246355645632507, 8.727863400312915]]\n"
     ]
    }
   ],
   "source": [
    "\n",
    "def population(tam, mim , max):\n",
    "    p = []\n",
    "    \n",
    "    for i in range(tam):\n",
    "        c = []\n",
    "        x = random.uniform(0, max)\n",
    "        c.append(x)\n",
    "        y = random.uniform(mim, max)\n",
    "        c.append(y)\n",
    "        p.append(c)\n",
    "    return p \n",
    "\n",
    "pop = population(10,0,10)\n",
    "print(pop)\n"
   ]
  },
  {
   "cell_type": "code",
   "execution_count": 14,
   "metadata": {},
   "outputs": [],
   "source": [
    "def f_result(x,n):\n",
    "    r = []\n",
    "    for j in x:\n",
    "        aux = 1\n",
    "        for i in range(n):\n",
    "            aux = aux*(math.sqrt(j[i])*math.sin(j[i]))\n",
    "        r.append(aux)\n",
    "    return r"
   ]
  },
  {
   "cell_type": "code",
   "execution_count": 36,
   "metadata": {},
   "outputs": [],
   "source": [
    "f = f_result(pop,2)"
   ]
  },
  {
   "cell_type": "code",
   "execution_count": null,
   "metadata": {},
   "outputs": [],
   "source": [
    "def ranking_linear(cells):\n",
    "    "
   ]
  },
  {
   "cell_type": "code",
   "execution_count": 40,
   "metadata": {},
   "outputs": [
    {
     "name": "stdout",
     "output_type": "stream",
     "text": [
      "0.540757200786202\n",
      "-1.4602356828706013\n",
      "2.8512559600139085\n",
      "-1.2943700558838915\n",
      "1.099867630559349\n",
      "1.6102281805046734\n",
      "3.4250841133760788\n",
      "0.21825175064044114\n",
      "3.2386452582652865\n",
      "0.4990319860824722\n",
      "\n",
      "ranked:\n",
      "\n",
      "-1.4602356828706013  1 0.05\n",
      "-1.2943700558838915  2 0.05555555555555556\n",
      "0.21825175064044114  3 0.061111111111111116\n",
      "0.4990319860824722  4 0.06666666666666668\n",
      "0.540757200786202  5 0.07222222222222223\n",
      "1.099867630559349  6 0.07777777777777778\n",
      "1.6102281805046734  7 0.08333333333333334\n",
      "2.8512559600139085  8 0.08888888888888889\n",
      "3.2386452582652865  9 0.09444444444444444\n",
      "3.4250841133760788  10 0.1\n"
     ]
    }
   ],
   "source": [
    "class Genetic_obj():\n",
    "\n",
    "    def __init__(self, pop, mim_coordinate, max_coordinate):\n",
    "        #gerar população\n",
    "        self.populations = self.population(pop, mim_coordinate, max_coordinate)\n",
    "        #aplicar função de acordo com a coordenada\n",
    "        self.result = self.f_result(self.populations, 2)\n",
    "        self.cells = []\n",
    "        self.ranked_cells = []\n",
    "\n",
    "        #cria cada obnjeto célula, formado por coordenadas, resultado da função e \n",
    "        for i in range(len(self.populations)):\n",
    "            self.cells.append(cell(self.populations[i], self.result[i]))\n",
    "\n",
    "        #ordena as células e define o ranking linear\n",
    "        self.rank_cells()\n",
    "\n",
    "    def population(self,tam, mim , max):\n",
    "        p = []\n",
    "        \n",
    "        for i in range(tam):\n",
    "            c = []\n",
    "            x = random.uniform(0, max)\n",
    "            c.append(x)\n",
    "            y = random.uniform(mim, max)\n",
    "            c.append(y)\n",
    "            p.append(c)\n",
    "        return p   \n",
    "\n",
    "    def f_result(self,x,n):\n",
    "        r = []\n",
    "        for j in x:\n",
    "            aux = 1\n",
    "            for i in range(n):\n",
    "                aux = aux*(math.sqrt(j[i])*math.sin(j[i]))\n",
    "            r.append(aux)\n",
    "        return r\n",
    "    \n",
    "    def rank_cells(self):\n",
    "        self.ranked_cells = sorted(self.cells, key=lambda cell: cell.function)\n",
    "\n",
    "        mim = 0.05  \n",
    "        max = 0.1   \n",
    "\n",
    "        n = len(self.ranked_cells)  # Calcular n fora do loop\n",
    "\n",
    "        for rank_i, cell_i in enumerate(self.ranked_cells, start=1):\n",
    "            cell_i.ranking = rank_i\n",
    "            \n",
    "            # Aplicar a fórmula de ranking linear\n",
    "            cell_i.linear_ranking = mim + (max - mim) * (rank_i - 1) / (n - 1)\n",
    "\n",
    "    \n",
    "class cell:\n",
    "    def __init__(self, coordinate, function):\n",
    "        self.coordinate  = coordinate\n",
    "        self.function = function\n",
    "        self.ranking = None\n",
    "        self.linear_ranking = None\n",
    "    \n",
    "\n",
    "pop = 10\n",
    "mim = 0\n",
    "max = 10\n",
    "go = Genetic_obj(pop, mim, max)  \n",
    "\n",
    "for i in go.cells:\n",
    "    print(i.function)\n",
    "print(\"\\nranked:\\n\")\n",
    "for i in go.ranked_cells:\n",
    "    print(str(i.function) + \"  \" + str(i.ranking) + \" \" + str(i.linear_ranking))\n"
   ]
  }
 ],
 "metadata": {
  "kernelspec": {
   "display_name": "Python 3",
   "language": "python",
   "name": "python3"
  },
  "language_info": {
   "codemirror_mode": {
    "name": "ipython",
    "version": 3
   },
   "file_extension": ".py",
   "mimetype": "text/x-python",
   "name": "python",
   "nbconvert_exporter": "python",
   "pygments_lexer": "ipython3",
   "version": "3.12.8"
  }
 },
 "nbformat": 4,
 "nbformat_minor": 2
}
